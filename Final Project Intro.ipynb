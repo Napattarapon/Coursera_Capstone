{
    "nbformat_minor": 1, 
    "cells": [
        {
            "source": "## 1. Introduction", 
            "cell_type": "markdown", 
            "metadata": {
                "collapsed": true
            }
        }, 
        {
            "source": "Our main goal is to building a machine learning model for predicting condo price in Sao Paulo to help real state investors to make better business decisions.", 
            "cell_type": "markdown", 
            "metadata": {}
        }, 
        {
            "source": "### Objectives:\n-\tIdentify the most expensive neighborhoods through data analysis and visualization tools.\n-\tBuild a simple regression model for predicting land prices in Sao Paulo.\n-\tImprove prediction model by adding data through the Foursquare API.\n", 
            "cell_type": "markdown", 
            "metadata": {}
        }, 
        {
            "source": "## 2. Description of the data", 
            "cell_type": "markdown", 
            "metadata": {}
        }, 
        {
            "source": "The main data used for this project will be from two sources:\n- The rent/sale condo price in Sao Paulo. (Kaggle)\n- The venues in each neighborhood. (FourSquare API)\n", 
            "cell_type": "markdown", 
            "metadata": {}
        }, 
        {
            "source": "<a href='https://www.kaggle.com/argonalyst/sao-paulo-real-estate-sale-rent-april-2019'>Link to kaggle Dataset</a>", 
            "cell_type": "markdown", 
            "metadata": {}
        }, 
        {
            "source": "### Using data to solve the question:\n- First, correlation between sale price and all factors will be checked.\n- Second, if correlated, machine learning techniques (PCA, Regression, PCR) will be used to analyze the data. ", 
            "cell_type": "markdown", 
            "metadata": {}
        }, 
        {
            "source": "", 
            "cell_type": "code", 
            "execution_count": null, 
            "outputs": [], 
            "metadata": {}
        }
    ], 
    "nbformat": 4, 
    "metadata": {
        "kernelspec": {
            "display_name": "Python 3.6", 
            "name": "python3", 
            "language": "python"
        }, 
        "language_info": {
            "mimetype": "text/x-python", 
            "nbconvert_exporter": "python", 
            "version": "3.6.8", 
            "name": "python", 
            "pygments_lexer": "ipython3", 
            "file_extension": ".py", 
            "codemirror_mode": {
                "version": 3, 
                "name": "ipython"
            }
        }
    }
}