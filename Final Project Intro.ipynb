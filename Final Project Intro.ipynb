{
 "cells": [
  {
   "cell_type": "markdown",
   "metadata": {
    "collapsed": true
   },
   "source": [
    "## 1. Introduction"
   ]
  },
  {
   "cell_type": "markdown",
   "metadata": {},
   "source": [
    "Our main goal is to building a machine learning model for predicting condo price in Sao Paulo to help real state investors to make better business decisions."
   ]
  },
  {
   "cell_type": "markdown",
   "metadata": {},
   "source": [
    "### Objectives:\n",
    "-\tIdentify the most expensive neighborhoods through data analysis and visualization tools.\n",
    "-\tBuild a simple regression model for predicting land prices in Sao Paulo.\n",
    "-\tImprove prediction model by adding data through the Foursquare API.\n"
   ]
  },
  {
   "cell_type": "markdown",
   "metadata": {},
   "source": [
    "## 2. Description of the data"
   ]
  },
  {
   "cell_type": "markdown",
   "metadata": {},
   "source": [
    "The main data used for this project will be from two sources:\n",
    "- The rent/sale condo price in Sao Paulo. (Kaggle)\n",
    "- The venues in each neighborhood. (FourSquare API)\n"
   ]
  },
  {
   "cell_type": "markdown",
   "metadata": {},
   "source": [
    "<a href='https://www.kaggle.com/argonalyst/sao-paulo-real-estate-sale-rent-april-2019'>Link to kaggle Dataset</a>"
   ]
  },
  {
   "cell_type": "markdown",
   "metadata": {},
   "source": [
    "### Using data to solve the question:\n",
    "- First, correlation between sale price and all factors will be checked.\n",
    "- Second, if correlated, machine learning techniques (PCA, Regression, PCR) will be used to analyze the data. "
   ]
  },
  {
   "cell_type": "code",
   "execution_count": null,
   "metadata": {},
   "outputs": [],
   "source": []
  }
 ],
 "metadata": {
  "kernelspec": {
   "display_name": "Python 3.6",
   "language": "python",
   "name": "python3"
  },
  "language_info": {
   "codemirror_mode": {
    "name": "ipython",
    "version": 3
   },
   "file_extension": ".py",
   "mimetype": "text/x-python",
   "name": "python",
   "nbconvert_exporter": "python",
   "pygments_lexer": "ipython3",
   "version": "3.6.8"
  }
 },
 "nbformat": 4,
 "nbformat_minor": 1
}
