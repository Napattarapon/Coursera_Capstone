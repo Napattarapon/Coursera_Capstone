{
 "cells": [
  {
   "cell_type": "markdown",
   "metadata": {},
   "source": [
    "# Predicting Condo prices in Sao Paulo"
   ]
  },
  {
   "cell_type": "markdown",
   "metadata": {},
   "source": [
    "### Objective\n",
    "Our main goal is to building a machine learning model for predicting condo price in Sao Paulo to help real state investors to make better business decisions.\n",
    "\n",
    "- Build a simple regression model for predicting land prices in Sao Paulo.\n",
    "- Improve prediction model by adding data through the Foursquare API.\n",
    "\n",
    "## 1. Description of the data\n",
    "The main data used for this project will be from two sources:\n",
    "- The rent/sale condo price in Sao Paulo. (Kaggle)\n",
    "- The venues in each neighborhood. (FourSquare API)\n",
    "\n",
    "<a href='https://www.kaggle.com/argonalyst/sao-paulo-real-estate-sale-rent-april-2019'>Link to kaggle Dataset</a>\n",
    "\n",
    "### Limitations\n",
    "- Due to limited calling API from Foursquare each times, we can't use all sale data from the original(6412rows) so in this project, we will focus on recent property marked as 'New' = 1 in the original dataset.\n",
    "\n",
    "### Columns\n",
    "\n",
    "- PriceFinal price advertised (R$ Brazilian Real)\n",
    "- CondoCondominium expenses (unknown values are marked as zero)\n",
    "- SizeThe property size in Square Meters m² (private areas only)\n",
    "- RoomsNumber of bedrooms\n",
    "- ToiletsNumber of toilets (all toilets)\n",
    "- SuitesNumber of bedrooms with a private bathroom (en suite)\n",
    "- ParkingNumber of parking spots\n",
    "- ElevatorBinary value: 1 if there is elevator in the building, 0 otherwise\n",
    "- FurnishedBinary value: 1 if the property is funished, 0 otherwise\n",
    "- Swimming PoolBinary value: 1 if the property has swimming pool, 0 otherwise\n",
    "- NewBinary value: 1 if the property is very recent, 0 otherwise\n",
    "- DistrictThe neighborhood and city where the property is located, e.i: Itaim Bibi/São Paulo\n",
    "- Negotiation TypeSale or Rent\n",
    "- Property TypeThe property type\n",
    "- Latitude\n",
    "- Longitude"
   ]
  },
  {
   "cell_type": "code",
   "execution_count": 166,
   "metadata": {},
   "outputs": [
    {
     "name": "stdout",
     "output_type": "stream",
     "text": [
      "Solving environment: done\n",
      "\n",
      "# All requested packages already installed.\n",
      "\n",
      "Solving environment: done\n",
      "\n",
      "# All requested packages already installed.\n",
      "\n"
     ]
    }
   ],
   "source": [
    "\n",
    "!conda install -c conda-forge beautifulsoup4 --yes\n",
    "\n",
    "!conda install -c conda-forge geopy --yes\n",
    "\n",
    "!conda install -c conda-forge folium=0.5.0 --yes"
   ]
  },
  {
   "cell_type": "markdown",
   "metadata": {},
   "source": [
    "## 2.import libraries and Dataset"
   ]
  },
  {
   "cell_type": "code",
   "execution_count": 167,
   "metadata": {},
   "outputs": [],
   "source": [
    "import numpy as np\n",
    "import pandas as pd\n",
    "import matplotlib.pyplot as plt\n",
    "import requests\n",
    "\n",
    "import folium\n",
    "import locale"
   ]
  },
  {
   "cell_type": "code",
   "execution_count": 168,
   "metadata": {},
   "outputs": [
    {
     "data": {
      "text/html": [
       "<div>\n",
       "<style scoped>\n",
       "    .dataframe tbody tr th:only-of-type {\n",
       "        vertical-align: middle;\n",
       "    }\n",
       "\n",
       "    .dataframe tbody tr th {\n",
       "        vertical-align: top;\n",
       "    }\n",
       "\n",
       "    .dataframe thead th {\n",
       "        text-align: right;\n",
       "    }\n",
       "</style>\n",
       "<table border=\"1\" class=\"dataframe\">\n",
       "  <thead>\n",
       "    <tr style=\"text-align: right;\">\n",
       "      <th></th>\n",
       "      <th>Price</th>\n",
       "      <th>Condo</th>\n",
       "      <th>Size</th>\n",
       "      <th>Rooms</th>\n",
       "      <th>Toilets</th>\n",
       "      <th>Suites</th>\n",
       "      <th>Parking</th>\n",
       "      <th>Elevator</th>\n",
       "      <th>Furnished</th>\n",
       "      <th>Swimming Pool</th>\n",
       "      <th>New</th>\n",
       "      <th>District</th>\n",
       "      <th>Negotiation Type</th>\n",
       "      <th>Property Type</th>\n",
       "      <th>Latitude</th>\n",
       "      <th>Longitude</th>\n",
       "    </tr>\n",
       "  </thead>\n",
       "  <tbody>\n",
       "    <tr>\n",
       "      <th>0</th>\n",
       "      <td>930</td>\n",
       "      <td>220</td>\n",
       "      <td>47</td>\n",
       "      <td>2</td>\n",
       "      <td>2</td>\n",
       "      <td>1</td>\n",
       "      <td>1</td>\n",
       "      <td>0</td>\n",
       "      <td>0</td>\n",
       "      <td>0</td>\n",
       "      <td>0</td>\n",
       "      <td>Artur Alvim/São Paulo</td>\n",
       "      <td>rent</td>\n",
       "      <td>apartment</td>\n",
       "      <td>-23.543138</td>\n",
       "      <td>-46.479486</td>\n",
       "    </tr>\n",
       "    <tr>\n",
       "      <th>1</th>\n",
       "      <td>1000</td>\n",
       "      <td>148</td>\n",
       "      <td>45</td>\n",
       "      <td>2</td>\n",
       "      <td>2</td>\n",
       "      <td>1</td>\n",
       "      <td>1</td>\n",
       "      <td>0</td>\n",
       "      <td>0</td>\n",
       "      <td>0</td>\n",
       "      <td>0</td>\n",
       "      <td>Artur Alvim/São Paulo</td>\n",
       "      <td>rent</td>\n",
       "      <td>apartment</td>\n",
       "      <td>-23.550239</td>\n",
       "      <td>-46.480718</td>\n",
       "    </tr>\n",
       "    <tr>\n",
       "      <th>2</th>\n",
       "      <td>1000</td>\n",
       "      <td>100</td>\n",
       "      <td>48</td>\n",
       "      <td>2</td>\n",
       "      <td>2</td>\n",
       "      <td>1</td>\n",
       "      <td>1</td>\n",
       "      <td>0</td>\n",
       "      <td>0</td>\n",
       "      <td>0</td>\n",
       "      <td>0</td>\n",
       "      <td>Artur Alvim/São Paulo</td>\n",
       "      <td>rent</td>\n",
       "      <td>apartment</td>\n",
       "      <td>-23.542818</td>\n",
       "      <td>-46.485665</td>\n",
       "    </tr>\n",
       "    <tr>\n",
       "      <th>3</th>\n",
       "      <td>1000</td>\n",
       "      <td>200</td>\n",
       "      <td>48</td>\n",
       "      <td>2</td>\n",
       "      <td>2</td>\n",
       "      <td>1</td>\n",
       "      <td>1</td>\n",
       "      <td>0</td>\n",
       "      <td>0</td>\n",
       "      <td>0</td>\n",
       "      <td>0</td>\n",
       "      <td>Artur Alvim/São Paulo</td>\n",
       "      <td>rent</td>\n",
       "      <td>apartment</td>\n",
       "      <td>-23.547171</td>\n",
       "      <td>-46.483014</td>\n",
       "    </tr>\n",
       "    <tr>\n",
       "      <th>4</th>\n",
       "      <td>1300</td>\n",
       "      <td>410</td>\n",
       "      <td>55</td>\n",
       "      <td>2</td>\n",
       "      <td>2</td>\n",
       "      <td>1</td>\n",
       "      <td>1</td>\n",
       "      <td>1</td>\n",
       "      <td>0</td>\n",
       "      <td>0</td>\n",
       "      <td>0</td>\n",
       "      <td>Artur Alvim/São Paulo</td>\n",
       "      <td>rent</td>\n",
       "      <td>apartment</td>\n",
       "      <td>-23.525025</td>\n",
       "      <td>-46.482436</td>\n",
       "    </tr>\n",
       "  </tbody>\n",
       "</table>\n",
       "</div>"
      ],
      "text/plain": [
       "   Price  Condo  Size  Rooms  Toilets  Suites  Parking  Elevator  Furnished  \\\n",
       "0    930    220    47      2        2       1        1         0          0   \n",
       "1   1000    148    45      2        2       1        1         0          0   \n",
       "2   1000    100    48      2        2       1        1         0          0   \n",
       "3   1000    200    48      2        2       1        1         0          0   \n",
       "4   1300    410    55      2        2       1        1         1          0   \n",
       "\n",
       "   Swimming Pool  New               District Negotiation Type Property Type  \\\n",
       "0              0    0  Artur Alvim/São Paulo             rent     apartment   \n",
       "1              0    0  Artur Alvim/São Paulo             rent     apartment   \n",
       "2              0    0  Artur Alvim/São Paulo             rent     apartment   \n",
       "3              0    0  Artur Alvim/São Paulo             rent     apartment   \n",
       "4              0    0  Artur Alvim/São Paulo             rent     apartment   \n",
       "\n",
       "    Latitude  Longitude  \n",
       "0 -23.543138 -46.479486  \n",
       "1 -23.550239 -46.480718  \n",
       "2 -23.542818 -46.485665  \n",
       "3 -23.547171 -46.483014  \n",
       "4 -23.525025 -46.482436  "
      ]
     },
     "execution_count": 168,
     "metadata": {},
     "output_type": "execute_result"
    }
   ],
   "source": [
    "df = pd.read_csv('https://raw.githubusercontent.com/terterter333/Coursera_Capstone/master/sao-paulo-properties-april-2019.csv')\n",
    "df.head()"
   ]
  },
  {
   "cell_type": "code",
   "execution_count": 169,
   "metadata": {},
   "outputs": [
    {
     "data": {
      "text/plain": [
       "(13640, 16)"
      ]
     },
     "execution_count": 169,
     "metadata": {},
     "output_type": "execute_result"
    }
   ],
   "source": [
    "df.shape"
   ]
  },
  {
   "cell_type": "markdown",
   "metadata": {},
   "source": [
    "Clean data and select recent condos "
   ]
  },
  {
   "cell_type": "code",
   "execution_count": 170,
   "metadata": {},
   "outputs": [
    {
     "name": "stdout",
     "output_type": "stream",
     "text": [
      "(196, 16)\n"
     ]
    },
    {
     "data": {
      "text/html": [
       "<div>\n",
       "<style scoped>\n",
       "    .dataframe tbody tr th:only-of-type {\n",
       "        vertical-align: middle;\n",
       "    }\n",
       "\n",
       "    .dataframe tbody tr th {\n",
       "        vertical-align: top;\n",
       "    }\n",
       "\n",
       "    .dataframe thead th {\n",
       "        text-align: right;\n",
       "    }\n",
       "</style>\n",
       "<table border=\"1\" class=\"dataframe\">\n",
       "  <thead>\n",
       "    <tr style=\"text-align: right;\">\n",
       "      <th></th>\n",
       "      <th>Price</th>\n",
       "      <th>Condo</th>\n",
       "      <th>Size</th>\n",
       "      <th>Rooms</th>\n",
       "      <th>Toilets</th>\n",
       "      <th>Suites</th>\n",
       "      <th>Parking</th>\n",
       "      <th>Elevator</th>\n",
       "      <th>Furnished</th>\n",
       "      <th>Swimming Pool</th>\n",
       "      <th>New</th>\n",
       "      <th>District</th>\n",
       "      <th>Negotiation Type</th>\n",
       "      <th>Property Type</th>\n",
       "      <th>Latitude</th>\n",
       "      <th>Longitude</th>\n",
       "    </tr>\n",
       "  </thead>\n",
       "  <tbody>\n",
       "    <tr>\n",
       "      <th>0</th>\n",
       "      <td>720000</td>\n",
       "      <td>700</td>\n",
       "      <td>70</td>\n",
       "      <td>2</td>\n",
       "      <td>2</td>\n",
       "      <td>1</td>\n",
       "      <td>1</td>\n",
       "      <td>1</td>\n",
       "      <td>0</td>\n",
       "      <td>1</td>\n",
       "      <td>1</td>\n",
       "      <td>Vila Madalena/São Paulo</td>\n",
       "      <td>sale</td>\n",
       "      <td>apartment</td>\n",
       "      <td>-23.547687</td>\n",
       "      <td>-46.692594</td>\n",
       "    </tr>\n",
       "    <tr>\n",
       "      <th>1</th>\n",
       "      <td>650000</td>\n",
       "      <td>0</td>\n",
       "      <td>67</td>\n",
       "      <td>2</td>\n",
       "      <td>2</td>\n",
       "      <td>1</td>\n",
       "      <td>1</td>\n",
       "      <td>1</td>\n",
       "      <td>0</td>\n",
       "      <td>0</td>\n",
       "      <td>1</td>\n",
       "      <td>Vila Madalena/São Paulo</td>\n",
       "      <td>sale</td>\n",
       "      <td>apartment</td>\n",
       "      <td>-23.562150</td>\n",
       "      <td>-46.692518</td>\n",
       "    </tr>\n",
       "    <tr>\n",
       "      <th>2</th>\n",
       "      <td>441000</td>\n",
       "      <td>550</td>\n",
       "      <td>69</td>\n",
       "      <td>2</td>\n",
       "      <td>2</td>\n",
       "      <td>1</td>\n",
       "      <td>2</td>\n",
       "      <td>1</td>\n",
       "      <td>0</td>\n",
       "      <td>1</td>\n",
       "      <td>1</td>\n",
       "      <td>Mooca/São Paulo</td>\n",
       "      <td>sale</td>\n",
       "      <td>apartment</td>\n",
       "      <td>-23.559428</td>\n",
       "      <td>-46.603770</td>\n",
       "    </tr>\n",
       "    <tr>\n",
       "      <th>3</th>\n",
       "      <td>345300</td>\n",
       "      <td>0</td>\n",
       "      <td>58</td>\n",
       "      <td>3</td>\n",
       "      <td>2</td>\n",
       "      <td>0</td>\n",
       "      <td>1</td>\n",
       "      <td>1</td>\n",
       "      <td>0</td>\n",
       "      <td>0</td>\n",
       "      <td>1</td>\n",
       "      <td>Mooca/São Paulo</td>\n",
       "      <td>sale</td>\n",
       "      <td>apartment</td>\n",
       "      <td>-23.549321</td>\n",
       "      <td>-46.583944</td>\n",
       "    </tr>\n",
       "    <tr>\n",
       "      <th>4</th>\n",
       "      <td>880000</td>\n",
       "      <td>0</td>\n",
       "      <td>118</td>\n",
       "      <td>3</td>\n",
       "      <td>4</td>\n",
       "      <td>3</td>\n",
       "      <td>2</td>\n",
       "      <td>1</td>\n",
       "      <td>0</td>\n",
       "      <td>1</td>\n",
       "      <td>1</td>\n",
       "      <td>Mooca/São Paulo</td>\n",
       "      <td>sale</td>\n",
       "      <td>apartment</td>\n",
       "      <td>-23.558443</td>\n",
       "      <td>-46.593451</td>\n",
       "    </tr>\n",
       "  </tbody>\n",
       "</table>\n",
       "</div>"
      ],
      "text/plain": [
       "    Price  Condo  Size  Rooms  Toilets  Suites  Parking  Elevator  Furnished  \\\n",
       "0  720000    700    70      2        2       1        1         1          0   \n",
       "1  650000      0    67      2        2       1        1         1          0   \n",
       "2  441000    550    69      2        2       1        2         1          0   \n",
       "3  345300      0    58      3        2       0        1         1          0   \n",
       "4  880000      0   118      3        4       3        2         1          0   \n",
       "\n",
       "   Swimming Pool  New                 District Negotiation Type Property Type  \\\n",
       "0              1    1  Vila Madalena/São Paulo             sale     apartment   \n",
       "1              0    1  Vila Madalena/São Paulo             sale     apartment   \n",
       "2              1    1          Mooca/São Paulo             sale     apartment   \n",
       "3              0    1          Mooca/São Paulo             sale     apartment   \n",
       "4              1    1          Mooca/São Paulo             sale     apartment   \n",
       "\n",
       "    Latitude  Longitude  \n",
       "0 -23.547687 -46.692594  \n",
       "1 -23.562150 -46.692518  \n",
       "2 -23.559428 -46.603770  \n",
       "3 -23.549321 -46.583944  \n",
       "4 -23.558443 -46.593451  "
      ]
     },
     "execution_count": 170,
     "metadata": {},
     "output_type": "execute_result"
    }
   ],
   "source": [
    "df=df[df[\"Negotiation Type\"]=='sale']\n",
    "#df = df[condition]\n",
    "df = df[df[\"Latitude\"] != 0]\n",
    "df = df[df[\"New\"] == 1]\n",
    "print(df.shape)\n",
    "df= df.reset_index(drop = True)\n",
    "\n",
    "df.head()"
   ]
  },
  {
   "cell_type": "code",
   "execution_count": 171,
   "metadata": {},
   "outputs": [
    {
     "name": "stdout",
     "output_type": "stream",
     "text": [
      "<class 'pandas.core.frame.DataFrame'>\n",
      "RangeIndex: 196 entries, 0 to 195\n",
      "Data columns (total 16 columns):\n",
      "Price               196 non-null int64\n",
      "Condo               196 non-null int64\n",
      "Size                196 non-null int64\n",
      "Rooms               196 non-null int64\n",
      "Toilets             196 non-null int64\n",
      "Suites              196 non-null int64\n",
      "Parking             196 non-null int64\n",
      "Elevator            196 non-null int64\n",
      "Furnished           196 non-null int64\n",
      "Swimming Pool       196 non-null int64\n",
      "New                 196 non-null int64\n",
      "District            196 non-null object\n",
      "Negotiation Type    196 non-null object\n",
      "Property Type       196 non-null object\n",
      "Latitude            196 non-null float64\n",
      "Longitude           196 non-null float64\n",
      "dtypes: float64(2), int64(11), object(3)\n",
      "memory usage: 24.6+ KB\n"
     ]
    }
   ],
   "source": [
    "df.info()"
   ]
  },
  {
   "cell_type": "markdown",
   "metadata": {},
   "source": [
    "## 3. Foursquare data\n",
    "The idea is very simple: we define a function to search number of venues near a piece of land. Then we add it to our features and train a multi-linear regression model."
   ]
  },
  {
   "cell_type": "code",
   "execution_count": 172,
   "metadata": {},
   "outputs": [],
   "source": [
    "CLIENT_ID = 'OCCG4XFVYRYZAY1YG24SQYAXL04SGDXLH5ELUMNHDNZK2AVH' # your Foursquare ID\n",
    "CLIENT_SECRET = 'XNMQOAINHXANPHLM01SYVJGOG3GRUEUCVAZ2O1NWNNFJTD1U' # your Foursquare Secret\n",
    "VERSION = '20190909' # Foursquare API version\n",
    "\n",
    "LIMIT = 100\n",
    "radius = 300"
   ]
  },
  {
   "cell_type": "markdown",
   "metadata": {},
   "source": [
    "define the function for calculating numbers of near venues "
   ]
  },
  {
   "cell_type": "code",
   "execution_count": 173,
   "metadata": {},
   "outputs": [],
   "source": [
    "def venues_near(lat, long):\n",
    "\n",
    "    url = 'https://api.foursquare.com/v2/venues/explore?&client_id={}&client_secret={}&v={}&ll={},{}&radius={}&limit={}'.format(\n",
    "        CLIENT_ID, \n",
    "        CLIENT_SECRET, \n",
    "        VERSION, \n",
    "        lat, \n",
    "        long, \n",
    "        radius, \n",
    "        LIMIT)\n",
    "    \n",
    "    results = requests.get(url).json()\n",
    "    venues = results['response']['groups'][0]['items']\n",
    "    \n",
    "    return len(venues)"
   ]
  },
  {
   "cell_type": "markdown",
   "metadata": {},
   "source": [
    "add to the original dataframe"
   ]
  },
  {
   "cell_type": "code",
   "execution_count": 174,
   "metadata": {},
   "outputs": [],
   "source": [
    "for i in range(df.shape[0]-1):\n",
    "    df.loc[i, 'venues_near'] = venues_near(df['Latitude'][i], df['Longitude'][i])"
   ]
  },
  {
   "cell_type": "markdown",
   "metadata": {},
   "source": [
    "## 4. Explore"
   ]
  },
  {
   "cell_type": "code",
   "execution_count": 175,
   "metadata": {},
   "outputs": [],
   "source": [
    "import seaborn as sns"
   ]
  },
  {
   "cell_type": "code",
   "execution_count": 180,
   "metadata": {},
   "outputs": [
    {
     "data": {
      "text/html": [
       "<div>\n",
       "<style scoped>\n",
       "    .dataframe tbody tr th:only-of-type {\n",
       "        vertical-align: middle;\n",
       "    }\n",
       "\n",
       "    .dataframe tbody tr th {\n",
       "        vertical-align: top;\n",
       "    }\n",
       "\n",
       "    .dataframe thead th {\n",
       "        text-align: right;\n",
       "    }\n",
       "</style>\n",
       "<table border=\"1\" class=\"dataframe\">\n",
       "  <thead>\n",
       "    <tr style=\"text-align: right;\">\n",
       "      <th></th>\n",
       "      <th>Price</th>\n",
       "      <th>Condo</th>\n",
       "      <th>Size</th>\n",
       "      <th>Rooms</th>\n",
       "      <th>Toilets</th>\n",
       "      <th>Suites</th>\n",
       "      <th>Parking</th>\n",
       "      <th>Elevator</th>\n",
       "      <th>Furnished</th>\n",
       "      <th>Swimming Pool</th>\n",
       "      <th>New</th>\n",
       "      <th>District</th>\n",
       "      <th>Negotiation Type</th>\n",
       "      <th>Property Type</th>\n",
       "      <th>Latitude</th>\n",
       "      <th>Longitude</th>\n",
       "      <th>venues_near</th>\n",
       "    </tr>\n",
       "  </thead>\n",
       "  <tbody>\n",
       "    <tr>\n",
       "      <th>0</th>\n",
       "      <td>720000</td>\n",
       "      <td>700</td>\n",
       "      <td>70</td>\n",
       "      <td>2</td>\n",
       "      <td>2</td>\n",
       "      <td>1</td>\n",
       "      <td>1</td>\n",
       "      <td>1</td>\n",
       "      <td>0</td>\n",
       "      <td>1</td>\n",
       "      <td>1</td>\n",
       "      <td>Vila Madalena/São Paulo</td>\n",
       "      <td>sale</td>\n",
       "      <td>apartment</td>\n",
       "      <td>-23.547687</td>\n",
       "      <td>-46.692594</td>\n",
       "      <td>32.0</td>\n",
       "    </tr>\n",
       "    <tr>\n",
       "      <th>1</th>\n",
       "      <td>650000</td>\n",
       "      <td>0</td>\n",
       "      <td>67</td>\n",
       "      <td>2</td>\n",
       "      <td>2</td>\n",
       "      <td>1</td>\n",
       "      <td>1</td>\n",
       "      <td>1</td>\n",
       "      <td>0</td>\n",
       "      <td>0</td>\n",
       "      <td>1</td>\n",
       "      <td>Vila Madalena/São Paulo</td>\n",
       "      <td>sale</td>\n",
       "      <td>apartment</td>\n",
       "      <td>-23.562150</td>\n",
       "      <td>-46.692518</td>\n",
       "      <td>56.0</td>\n",
       "    </tr>\n",
       "    <tr>\n",
       "      <th>2</th>\n",
       "      <td>441000</td>\n",
       "      <td>550</td>\n",
       "      <td>69</td>\n",
       "      <td>2</td>\n",
       "      <td>2</td>\n",
       "      <td>1</td>\n",
       "      <td>2</td>\n",
       "      <td>1</td>\n",
       "      <td>0</td>\n",
       "      <td>1</td>\n",
       "      <td>1</td>\n",
       "      <td>Mooca/São Paulo</td>\n",
       "      <td>sale</td>\n",
       "      <td>apartment</td>\n",
       "      <td>-23.559428</td>\n",
       "      <td>-46.603770</td>\n",
       "      <td>13.0</td>\n",
       "    </tr>\n",
       "    <tr>\n",
       "      <th>3</th>\n",
       "      <td>345300</td>\n",
       "      <td>0</td>\n",
       "      <td>58</td>\n",
       "      <td>3</td>\n",
       "      <td>2</td>\n",
       "      <td>0</td>\n",
       "      <td>1</td>\n",
       "      <td>1</td>\n",
       "      <td>0</td>\n",
       "      <td>0</td>\n",
       "      <td>1</td>\n",
       "      <td>Mooca/São Paulo</td>\n",
       "      <td>sale</td>\n",
       "      <td>apartment</td>\n",
       "      <td>-23.549321</td>\n",
       "      <td>-46.583944</td>\n",
       "      <td>6.0</td>\n",
       "    </tr>\n",
       "    <tr>\n",
       "      <th>4</th>\n",
       "      <td>880000</td>\n",
       "      <td>0</td>\n",
       "      <td>118</td>\n",
       "      <td>3</td>\n",
       "      <td>4</td>\n",
       "      <td>3</td>\n",
       "      <td>2</td>\n",
       "      <td>1</td>\n",
       "      <td>0</td>\n",
       "      <td>1</td>\n",
       "      <td>1</td>\n",
       "      <td>Mooca/São Paulo</td>\n",
       "      <td>sale</td>\n",
       "      <td>apartment</td>\n",
       "      <td>-23.558443</td>\n",
       "      <td>-46.593451</td>\n",
       "      <td>24.0</td>\n",
       "    </tr>\n",
       "  </tbody>\n",
       "</table>\n",
       "</div>"
      ],
      "text/plain": [
       "    Price  Condo  Size  Rooms  Toilets  Suites  Parking  Elevator  Furnished  \\\n",
       "0  720000    700    70      2        2       1        1         1          0   \n",
       "1  650000      0    67      2        2       1        1         1          0   \n",
       "2  441000    550    69      2        2       1        2         1          0   \n",
       "3  345300      0    58      3        2       0        1         1          0   \n",
       "4  880000      0   118      3        4       3        2         1          0   \n",
       "\n",
       "   Swimming Pool  New                 District Negotiation Type Property Type  \\\n",
       "0              1    1  Vila Madalena/São Paulo             sale     apartment   \n",
       "1              0    1  Vila Madalena/São Paulo             sale     apartment   \n",
       "2              1    1          Mooca/São Paulo             sale     apartment   \n",
       "3              0    1          Mooca/São Paulo             sale     apartment   \n",
       "4              1    1          Mooca/São Paulo             sale     apartment   \n",
       "\n",
       "    Latitude  Longitude  venues_near  \n",
       "0 -23.547687 -46.692594         32.0  \n",
       "1 -23.562150 -46.692518         56.0  \n",
       "2 -23.559428 -46.603770         13.0  \n",
       "3 -23.549321 -46.583944          6.0  \n",
       "4 -23.558443 -46.593451         24.0  "
      ]
     },
     "execution_count": 180,
     "metadata": {},
     "output_type": "execute_result"
    }
   ],
   "source": [
    "df.head()"
   ]
  },
  {
   "cell_type": "code",
   "execution_count": 182,
   "metadata": {},
   "outputs": [
    {
     "name": "stdout",
     "output_type": "stream",
     "text": [
      "<class 'pandas.core.frame.DataFrame'>\n",
      "RangeIndex: 196 entries, 0 to 195\n",
      "Data columns (total 17 columns):\n",
      "Price               196 non-null int64\n",
      "Condo               196 non-null int64\n",
      "Size                196 non-null int64\n",
      "Rooms               196 non-null int64\n",
      "Toilets             196 non-null int64\n",
      "Suites              196 non-null int64\n",
      "Parking             196 non-null int64\n",
      "Elevator            196 non-null int64\n",
      "Furnished           196 non-null int64\n",
      "Swimming Pool       196 non-null int64\n",
      "New                 196 non-null int64\n",
      "District            196 non-null object\n",
      "Negotiation Type    196 non-null object\n",
      "Property Type       196 non-null object\n",
      "Latitude            196 non-null float64\n",
      "Longitude           196 non-null float64\n",
      "venues_near         196 non-null float64\n",
      "dtypes: float64(3), int64(11), object(3)\n",
      "memory usage: 26.1+ KB\n"
     ]
    }
   ],
   "source": [
    "df.info()"
   ]
  },
  {
   "cell_type": "code",
   "execution_count": 184,
   "metadata": {},
   "outputs": [
    {
     "data": {
      "text/html": [
       "<div>\n",
       "<style scoped>\n",
       "    .dataframe tbody tr th:only-of-type {\n",
       "        vertical-align: middle;\n",
       "    }\n",
       "\n",
       "    .dataframe tbody tr th {\n",
       "        vertical-align: top;\n",
       "    }\n",
       "\n",
       "    .dataframe thead th {\n",
       "        text-align: right;\n",
       "    }\n",
       "</style>\n",
       "<table border=\"1\" class=\"dataframe\">\n",
       "  <thead>\n",
       "    <tr style=\"text-align: right;\">\n",
       "      <th></th>\n",
       "      <th>Price</th>\n",
       "      <th>Condo</th>\n",
       "      <th>Size</th>\n",
       "      <th>Rooms</th>\n",
       "      <th>Toilets</th>\n",
       "      <th>Suites</th>\n",
       "      <th>Parking</th>\n",
       "      <th>Elevator</th>\n",
       "      <th>Furnished</th>\n",
       "      <th>Swimming Pool</th>\n",
       "      <th>New</th>\n",
       "      <th>Latitude</th>\n",
       "      <th>Longitude</th>\n",
       "      <th>venues_near</th>\n",
       "    </tr>\n",
       "  </thead>\n",
       "  <tbody>\n",
       "    <tr>\n",
       "      <th>Price</th>\n",
       "      <td>1.000000</td>\n",
       "      <td>0.458293</td>\n",
       "      <td>0.834325</td>\n",
       "      <td>0.654590</td>\n",
       "      <td>0.519361</td>\n",
       "      <td>0.405709</td>\n",
       "      <td>0.577019</td>\n",
       "      <td>NaN</td>\n",
       "      <td>0.000887</td>\n",
       "      <td>0.261181</td>\n",
       "      <td>NaN</td>\n",
       "      <td>0.038552</td>\n",
       "      <td>-0.064869</td>\n",
       "      <td>0.359275</td>\n",
       "    </tr>\n",
       "    <tr>\n",
       "      <th>Condo</th>\n",
       "      <td>0.458293</td>\n",
       "      <td>1.000000</td>\n",
       "      <td>0.486736</td>\n",
       "      <td>0.332831</td>\n",
       "      <td>0.509596</td>\n",
       "      <td>0.645213</td>\n",
       "      <td>0.292174</td>\n",
       "      <td>NaN</td>\n",
       "      <td>0.034637</td>\n",
       "      <td>0.144820</td>\n",
       "      <td>NaN</td>\n",
       "      <td>0.046614</td>\n",
       "      <td>-0.020767</td>\n",
       "      <td>0.271242</td>\n",
       "    </tr>\n",
       "    <tr>\n",
       "      <th>Size</th>\n",
       "      <td>0.834325</td>\n",
       "      <td>0.486736</td>\n",
       "      <td>1.000000</td>\n",
       "      <td>0.815055</td>\n",
       "      <td>0.586768</td>\n",
       "      <td>0.429887</td>\n",
       "      <td>0.698163</td>\n",
       "      <td>NaN</td>\n",
       "      <td>-0.030611</td>\n",
       "      <td>0.285181</td>\n",
       "      <td>NaN</td>\n",
       "      <td>0.068155</td>\n",
       "      <td>-0.021531</td>\n",
       "      <td>0.250601</td>\n",
       "    </tr>\n",
       "    <tr>\n",
       "      <th>Rooms</th>\n",
       "      <td>0.654590</td>\n",
       "      <td>0.332831</td>\n",
       "      <td>0.815055</td>\n",
       "      <td>1.000000</td>\n",
       "      <td>0.555090</td>\n",
       "      <td>0.302400</td>\n",
       "      <td>0.580697</td>\n",
       "      <td>NaN</td>\n",
       "      <td>-0.113508</td>\n",
       "      <td>0.234431</td>\n",
       "      <td>NaN</td>\n",
       "      <td>0.027044</td>\n",
       "      <td>-0.024436</td>\n",
       "      <td>0.073484</td>\n",
       "    </tr>\n",
       "    <tr>\n",
       "      <th>Toilets</th>\n",
       "      <td>0.519361</td>\n",
       "      <td>0.509596</td>\n",
       "      <td>0.586768</td>\n",
       "      <td>0.555090</td>\n",
       "      <td>1.000000</td>\n",
       "      <td>0.740796</td>\n",
       "      <td>0.478346</td>\n",
       "      <td>NaN</td>\n",
       "      <td>0.013705</td>\n",
       "      <td>0.419114</td>\n",
       "      <td>NaN</td>\n",
       "      <td>0.083005</td>\n",
       "      <td>-0.028350</td>\n",
       "      <td>0.228752</td>\n",
       "    </tr>\n",
       "    <tr>\n",
       "      <th>Suites</th>\n",
       "      <td>0.405709</td>\n",
       "      <td>0.645213</td>\n",
       "      <td>0.429887</td>\n",
       "      <td>0.302400</td>\n",
       "      <td>0.740796</td>\n",
       "      <td>1.000000</td>\n",
       "      <td>0.340912</td>\n",
       "      <td>NaN</td>\n",
       "      <td>0.035290</td>\n",
       "      <td>0.327395</td>\n",
       "      <td>NaN</td>\n",
       "      <td>0.077997</td>\n",
       "      <td>-0.021571</td>\n",
       "      <td>0.236817</td>\n",
       "    </tr>\n",
       "    <tr>\n",
       "      <th>Parking</th>\n",
       "      <td>0.577019</td>\n",
       "      <td>0.292174</td>\n",
       "      <td>0.698163</td>\n",
       "      <td>0.580697</td>\n",
       "      <td>0.478346</td>\n",
       "      <td>0.340912</td>\n",
       "      <td>1.000000</td>\n",
       "      <td>NaN</td>\n",
       "      <td>0.117773</td>\n",
       "      <td>0.356012</td>\n",
       "      <td>NaN</td>\n",
       "      <td>0.024617</td>\n",
       "      <td>-0.032525</td>\n",
       "      <td>0.101890</td>\n",
       "    </tr>\n",
       "    <tr>\n",
       "      <th>Elevator</th>\n",
       "      <td>NaN</td>\n",
       "      <td>NaN</td>\n",
       "      <td>NaN</td>\n",
       "      <td>NaN</td>\n",
       "      <td>NaN</td>\n",
       "      <td>NaN</td>\n",
       "      <td>NaN</td>\n",
       "      <td>NaN</td>\n",
       "      <td>NaN</td>\n",
       "      <td>NaN</td>\n",
       "      <td>NaN</td>\n",
       "      <td>NaN</td>\n",
       "      <td>NaN</td>\n",
       "      <td>NaN</td>\n",
       "    </tr>\n",
       "    <tr>\n",
       "      <th>Furnished</th>\n",
       "      <td>0.000887</td>\n",
       "      <td>0.034637</td>\n",
       "      <td>-0.030611</td>\n",
       "      <td>-0.113508</td>\n",
       "      <td>0.013705</td>\n",
       "      <td>0.035290</td>\n",
       "      <td>0.117773</td>\n",
       "      <td>NaN</td>\n",
       "      <td>1.000000</td>\n",
       "      <td>0.092601</td>\n",
       "      <td>NaN</td>\n",
       "      <td>0.017815</td>\n",
       "      <td>0.014947</td>\n",
       "      <td>0.076902</td>\n",
       "    </tr>\n",
       "    <tr>\n",
       "      <th>Swimming Pool</th>\n",
       "      <td>0.261181</td>\n",
       "      <td>0.144820</td>\n",
       "      <td>0.285181</td>\n",
       "      <td>0.234431</td>\n",
       "      <td>0.419114</td>\n",
       "      <td>0.327395</td>\n",
       "      <td>0.356012</td>\n",
       "      <td>NaN</td>\n",
       "      <td>0.092601</td>\n",
       "      <td>1.000000</td>\n",
       "      <td>NaN</td>\n",
       "      <td>0.094742</td>\n",
       "      <td>-0.060006</td>\n",
       "      <td>0.200991</td>\n",
       "    </tr>\n",
       "    <tr>\n",
       "      <th>New</th>\n",
       "      <td>NaN</td>\n",
       "      <td>NaN</td>\n",
       "      <td>NaN</td>\n",
       "      <td>NaN</td>\n",
       "      <td>NaN</td>\n",
       "      <td>NaN</td>\n",
       "      <td>NaN</td>\n",
       "      <td>NaN</td>\n",
       "      <td>NaN</td>\n",
       "      <td>NaN</td>\n",
       "      <td>NaN</td>\n",
       "      <td>NaN</td>\n",
       "      <td>NaN</td>\n",
       "      <td>NaN</td>\n",
       "    </tr>\n",
       "    <tr>\n",
       "      <th>Latitude</th>\n",
       "      <td>0.038552</td>\n",
       "      <td>0.046614</td>\n",
       "      <td>0.068155</td>\n",
       "      <td>0.027044</td>\n",
       "      <td>0.083005</td>\n",
       "      <td>0.077997</td>\n",
       "      <td>0.024617</td>\n",
       "      <td>NaN</td>\n",
       "      <td>0.017815</td>\n",
       "      <td>0.094742</td>\n",
       "      <td>NaN</td>\n",
       "      <td>1.000000</td>\n",
       "      <td>0.881561</td>\n",
       "      <td>-0.201047</td>\n",
       "    </tr>\n",
       "    <tr>\n",
       "      <th>Longitude</th>\n",
       "      <td>-0.064869</td>\n",
       "      <td>-0.020767</td>\n",
       "      <td>-0.021531</td>\n",
       "      <td>-0.024436</td>\n",
       "      <td>-0.028350</td>\n",
       "      <td>-0.021571</td>\n",
       "      <td>-0.032525</td>\n",
       "      <td>NaN</td>\n",
       "      <td>0.014947</td>\n",
       "      <td>-0.060006</td>\n",
       "      <td>NaN</td>\n",
       "      <td>0.881561</td>\n",
       "      <td>1.000000</td>\n",
       "      <td>-0.254520</td>\n",
       "    </tr>\n",
       "    <tr>\n",
       "      <th>venues_near</th>\n",
       "      <td>0.359275</td>\n",
       "      <td>0.271242</td>\n",
       "      <td>0.250601</td>\n",
       "      <td>0.073484</td>\n",
       "      <td>0.228752</td>\n",
       "      <td>0.236817</td>\n",
       "      <td>0.101890</td>\n",
       "      <td>NaN</td>\n",
       "      <td>0.076902</td>\n",
       "      <td>0.200991</td>\n",
       "      <td>NaN</td>\n",
       "      <td>-0.201047</td>\n",
       "      <td>-0.254520</td>\n",
       "      <td>1.000000</td>\n",
       "    </tr>\n",
       "  </tbody>\n",
       "</table>\n",
       "</div>"
      ],
      "text/plain": [
       "                  Price     Condo      Size     Rooms   Toilets    Suites  \\\n",
       "Price          1.000000  0.458293  0.834325  0.654590  0.519361  0.405709   \n",
       "Condo          0.458293  1.000000  0.486736  0.332831  0.509596  0.645213   \n",
       "Size           0.834325  0.486736  1.000000  0.815055  0.586768  0.429887   \n",
       "Rooms          0.654590  0.332831  0.815055  1.000000  0.555090  0.302400   \n",
       "Toilets        0.519361  0.509596  0.586768  0.555090  1.000000  0.740796   \n",
       "Suites         0.405709  0.645213  0.429887  0.302400  0.740796  1.000000   \n",
       "Parking        0.577019  0.292174  0.698163  0.580697  0.478346  0.340912   \n",
       "Elevator            NaN       NaN       NaN       NaN       NaN       NaN   \n",
       "Furnished      0.000887  0.034637 -0.030611 -0.113508  0.013705  0.035290   \n",
       "Swimming Pool  0.261181  0.144820  0.285181  0.234431  0.419114  0.327395   \n",
       "New                 NaN       NaN       NaN       NaN       NaN       NaN   \n",
       "Latitude       0.038552  0.046614  0.068155  0.027044  0.083005  0.077997   \n",
       "Longitude     -0.064869 -0.020767 -0.021531 -0.024436 -0.028350 -0.021571   \n",
       "venues_near    0.359275  0.271242  0.250601  0.073484  0.228752  0.236817   \n",
       "\n",
       "                Parking  Elevator  Furnished  Swimming Pool  New  Latitude  \\\n",
       "Price          0.577019       NaN   0.000887       0.261181  NaN  0.038552   \n",
       "Condo          0.292174       NaN   0.034637       0.144820  NaN  0.046614   \n",
       "Size           0.698163       NaN  -0.030611       0.285181  NaN  0.068155   \n",
       "Rooms          0.580697       NaN  -0.113508       0.234431  NaN  0.027044   \n",
       "Toilets        0.478346       NaN   0.013705       0.419114  NaN  0.083005   \n",
       "Suites         0.340912       NaN   0.035290       0.327395  NaN  0.077997   \n",
       "Parking        1.000000       NaN   0.117773       0.356012  NaN  0.024617   \n",
       "Elevator            NaN       NaN        NaN            NaN  NaN       NaN   \n",
       "Furnished      0.117773       NaN   1.000000       0.092601  NaN  0.017815   \n",
       "Swimming Pool  0.356012       NaN   0.092601       1.000000  NaN  0.094742   \n",
       "New                 NaN       NaN        NaN            NaN  NaN       NaN   \n",
       "Latitude       0.024617       NaN   0.017815       0.094742  NaN  1.000000   \n",
       "Longitude     -0.032525       NaN   0.014947      -0.060006  NaN  0.881561   \n",
       "venues_near    0.101890       NaN   0.076902       0.200991  NaN -0.201047   \n",
       "\n",
       "               Longitude  venues_near  \n",
       "Price          -0.064869     0.359275  \n",
       "Condo          -0.020767     0.271242  \n",
       "Size           -0.021531     0.250601  \n",
       "Rooms          -0.024436     0.073484  \n",
       "Toilets        -0.028350     0.228752  \n",
       "Suites         -0.021571     0.236817  \n",
       "Parking        -0.032525     0.101890  \n",
       "Elevator             NaN          NaN  \n",
       "Furnished       0.014947     0.076902  \n",
       "Swimming Pool  -0.060006     0.200991  \n",
       "New                  NaN          NaN  \n",
       "Latitude        0.881561    -0.201047  \n",
       "Longitude       1.000000    -0.254520  \n",
       "venues_near    -0.254520     1.000000  "
      ]
     },
     "execution_count": 184,
     "metadata": {},
     "output_type": "execute_result"
    }
   ],
   "source": [
    "df.corr()"
   ]
  },
  {
   "cell_type": "markdown",
   "metadata": {},
   "source": [
    "- From pearson correlation table above,We can clearly see that 'Size' affect 'Price' significantly.\n",
    "- 'Rooms' 'Parking' and 'venues_near' seem slightly affect 'Price'."
   ]
  },
  {
   "cell_type": "code",
   "execution_count": 185,
   "metadata": {},
   "outputs": [
    {
     "data": {
      "text/plain": [
       "<seaborn.axisgrid.FacetGrid at 0x7f08414de898>"
      ]
     },
     "execution_count": 185,
     "metadata": {},
     "output_type": "execute_result"
    },
    {
     "data": {
      "image/png": "[encoded data removed]",
      "text/plain": [
       "<Figure size 360x360 with 1 Axes>"
      ]
     },
     "metadata": {
      "needs_background": "light"
     },
     "output_type": "display_data"
    }
   ],
   "source": [
    "sns.lmplot(x=\"Rooms\",y=\"Price\",data=df,ci=None,\n",
    "          scatter_kws={'alpha':0.4},line_kws={'color':'orange'})"
   ]
  },
  {
   "cell_type": "code",
   "execution_count": 225,
   "metadata": {},
   "outputs": [
    {
     "data": {
      "text/plain": [
       "<seaborn.axisgrid.FacetGrid at 0x7f0841168a90>"
      ]
     },
     "execution_count": 225,
     "metadata": {},
     "output_type": "execute_result"
    },
    {
     "data": {
      "image/png": "[encoded data removed]",
      "text/plain": [
       "<Figure size 360x360 with 1 Axes>"
      ]
     },
     "metadata": {
      "needs_background": "light"
     },
     "output_type": "display_data"
    }
   ],
   "source": [
    "sns.lmplot(x=\"venues_near\",y=\"Price\",data=df,ci=None,\n",
    "          scatter_kws={'alpha':0.4},line_kws={'color':'orange'})"
   ]
  },
  {
   "cell_type": "markdown",
   "metadata": {},
   "source": [
    "## 5.Multiple Linear Regression"
   ]
  },
  {
   "cell_type": "markdown",
   "metadata": {},
   "source": [
    "model1 : we use 'Size', 'Rooms','Parking' as features \n",
    "\n",
    "model2 : Let's take 'venues_near' into account"
   ]
  },
  {
   "cell_type": "code",
   "execution_count": 186,
   "metadata": {},
   "outputs": [
    {
     "data": {
      "text/plain": [
       "Index(['Price', 'Condo', 'Size', 'Rooms', 'Toilets', 'Suites', 'Parking',\n",
       "       'Elevator', 'Furnished', 'Swimming Pool', 'New', 'District',\n",
       "       'Negotiation Type', 'Property Type', 'Latitude', 'Longitude',\n",
       "       'venues_near'],\n",
       "      dtype='object')"
      ]
     },
     "execution_count": 186,
     "metadata": {},
     "output_type": "execute_result"
    }
   ],
   "source": [
    "df.columns"
   ]
  },
  {
   "cell_type": "code",
   "execution_count": 187,
   "metadata": {},
   "outputs": [],
   "source": [
    "from sklearn.model_selection import train_test_split\n",
    "from sklearn.linear_model import LinearRegression\n",
    "from sklearn.metrics import mean_squared_log_error\n",
    "from sklearn import metrics\n",
    "from sklearn.metrics import r2_score"
   ]
  },
  {
   "cell_type": "markdown",
   "metadata": {},
   "source": [
    "### Model1"
   ]
  },
  {
   "cell_type": "code",
   "execution_count": 213,
   "metadata": {},
   "outputs": [],
   "source": [
    "X = df[['Size', 'Rooms','Parking']]\n",
    "y = df['Price']"
   ]
  },
  {
   "cell_type": "code",
   "execution_count": 214,
   "metadata": {},
   "outputs": [
    {
     "data": {
      "text/plain": [
       "'RMSLE: 0.23'"
      ]
     },
     "execution_count": 214,
     "metadata": {},
     "output_type": "execute_result"
    }
   ],
   "source": [
    "X_train, X_test, y_train, y_test = train_test_split(X, y, test_size=0.2, random_state=42)\n",
    "\n",
    "model1 = LinearRegression()\n",
    "model1.fit(X_train,y_train)\n",
    "\n",
    "y_pred = model1.predict(X_test)\n",
    "\n",
    "'RMSLE: %.2f' % np.sqrt(mean_squared_log_error(y_test, y_pred))"
   ]
  },
  {
   "cell_type": "code",
   "execution_count": 215,
   "metadata": {},
   "outputs": [
    {
     "data": {
      "text/plain": [
       "'R^2: 0.897'"
      ]
     },
     "execution_count": 215,
     "metadata": {},
     "output_type": "execute_result"
    }
   ],
   "source": [
    "y_pred = model1.predict(X_test)\n",
    "'R^2: %.3f' % r2_score(y_test, y_pred)"
   ]
  },
  {
   "cell_type": "code",
   "execution_count": 216,
   "metadata": {},
   "outputs": [
    {
     "data": {
      "text/html": [
       "<div>\n",
       "<style scoped>\n",
       "    .dataframe tbody tr th:only-of-type {\n",
       "        vertical-align: middle;\n",
       "    }\n",
       "\n",
       "    .dataframe tbody tr th {\n",
       "        vertical-align: top;\n",
       "    }\n",
       "\n",
       "    .dataframe thead th {\n",
       "        text-align: right;\n",
       "    }\n",
       "</style>\n",
       "<table border=\"1\" class=\"dataframe\">\n",
       "  <thead>\n",
       "    <tr style=\"text-align: right;\">\n",
       "      <th></th>\n",
       "      <th>Actual</th>\n",
       "      <th>Predicted</th>\n",
       "    </tr>\n",
       "  </thead>\n",
       "  <tbody>\n",
       "    <tr>\n",
       "      <th>139</th>\n",
       "      <td>655500</td>\n",
       "      <td>537270.276195</td>\n",
       "    </tr>\n",
       "    <tr>\n",
       "      <th>113</th>\n",
       "      <td>150900</td>\n",
       "      <td>204272.276682</td>\n",
       "    </tr>\n",
       "    <tr>\n",
       "      <th>16</th>\n",
       "      <td>590000</td>\n",
       "      <td>883993.629807</td>\n",
       "    </tr>\n",
       "    <tr>\n",
       "      <th>75</th>\n",
       "      <td>184900</td>\n",
       "      <td>204272.276682</td>\n",
       "    </tr>\n",
       "    <tr>\n",
       "      <th>154</th>\n",
       "      <td>550000</td>\n",
       "      <td>699286.956374</td>\n",
       "    </tr>\n",
       "  </tbody>\n",
       "</table>\n",
       "</div>"
      ],
      "text/plain": [
       "     Actual      Predicted\n",
       "139  655500  537270.276195\n",
       "113  150900  204272.276682\n",
       "16   590000  883993.629807\n",
       "75   184900  204272.276682\n",
       "154  550000  699286.956374"
      ]
     },
     "execution_count": 216,
     "metadata": {},
     "output_type": "execute_result"
    }
   ],
   "source": [
    "df1 = pd.DataFrame({'Actual': y_test, 'Predicted': y_pred})\n",
    "df1.head(5)"
   ]
  },
  {
   "cell_type": "code",
   "execution_count": 217,
   "metadata": {},
   "outputs": [
    {
     "data": {
      "image/png": "[encoded data removed]",
      "text/plain": [
       "<Figure size 720x576 with 1 Axes>"
      ]
     },
     "metadata": {
      "needs_background": "light"
     },
     "output_type": "display_data"
    }
   ],
   "source": [
    "df1.plot(kind='bar',figsize=(10,8))\n",
    "plt.grid(which='major', linestyle='-', linewidth='0.5', color='green')\n",
    "plt.grid(which='minor', linestyle=':', linewidth='0.5', color='black')\n",
    "plt.show()"
   ]
  },
  {
   "cell_type": "code",
   "execution_count": 218,
   "metadata": {},
   "outputs": [
    {
     "name": "stdout",
     "output_type": "stream",
     "text": [
      "Mean Absolute Error: 73720.44602496589\n",
      "Mean Squared Error: 13160500765.816427\n",
      "Root Mean Squared Error: 114719.22578982316\n"
     ]
    }
   ],
   "source": [
    "print('Mean Absolute Error:', metrics.mean_absolute_error(y_test, y_pred))  \n",
    "print('Mean Squared Error:', metrics.mean_squared_error(y_test, y_pred))  \n",
    "print('Root Mean Squared Error:', np.sqrt(metrics.mean_squared_error(y_test, y_pred)))"
   ]
  },
  {
   "cell_type": "markdown",
   "metadata": {},
   "source": [
    "### Model2 (add venue near)"
   ]
  },
  {
   "cell_type": "code",
   "execution_count": 219,
   "metadata": {},
   "outputs": [],
   "source": [
    "X = df[['Size', 'Rooms','Parking','venues_near']]\n",
    "y = df['Price']"
   ]
  },
  {
   "cell_type": "code",
   "execution_count": 220,
   "metadata": {},
   "outputs": [
    {
     "data": {
      "text/plain": [
       "'RMSLE: 0.22'"
      ]
     },
     "execution_count": 220,
     "metadata": {},
     "output_type": "execute_result"
    }
   ],
   "source": [
    "X_train, X_test, y_train, y_test = train_test_split(X, y, test_size=0.2, random_state=42)\n",
    "\n",
    "model2 = LinearRegression()\n",
    "model2.fit(X_train,y_train)\n",
    "\n",
    "y_pred = model2.predict(X_test)\n",
    "\n",
    "'RMSLE: %.2f' % np.sqrt(mean_squared_log_error(y_test, y_pred))"
   ]
  },
  {
   "cell_type": "code",
   "execution_count": 221,
   "metadata": {},
   "outputs": [
    {
     "data": {
      "text/plain": [
       "'R^2: 0.932'"
      ]
     },
     "execution_count": 221,
     "metadata": {},
     "output_type": "execute_result"
    }
   ],
   "source": [
    "y_pred = model2.predict(X_test)\n",
    "'R^2: %.3f' % r2_score(y_test, y_pred)"
   ]
  },
  {
   "cell_type": "code",
   "execution_count": 222,
   "metadata": {},
   "outputs": [
    {
     "data": {
      "text/html": [
       "<div>\n",
       "<style scoped>\n",
       "    .dataframe tbody tr th:only-of-type {\n",
       "        vertical-align: middle;\n",
       "    }\n",
       "\n",
       "    .dataframe tbody tr th {\n",
       "        vertical-align: top;\n",
       "    }\n",
       "\n",
       "    .dataframe thead th {\n",
       "        text-align: right;\n",
       "    }\n",
       "</style>\n",
       "<table border=\"1\" class=\"dataframe\">\n",
       "  <thead>\n",
       "    <tr style=\"text-align: right;\">\n",
       "      <th></th>\n",
       "      <th>Actual</th>\n",
       "      <th>Predicted</th>\n",
       "    </tr>\n",
       "  </thead>\n",
       "  <tbody>\n",
       "    <tr>\n",
       "      <th>139</th>\n",
       "      <td>655500</td>\n",
       "      <td>545308.629411</td>\n",
       "    </tr>\n",
       "    <tr>\n",
       "      <th>113</th>\n",
       "      <td>150900</td>\n",
       "      <td>145045.881790</td>\n",
       "    </tr>\n",
       "    <tr>\n",
       "      <th>16</th>\n",
       "      <td>590000</td>\n",
       "      <td>865230.277156</td>\n",
       "    </tr>\n",
       "    <tr>\n",
       "      <th>75</th>\n",
       "      <td>184900</td>\n",
       "      <td>233610.231620</td>\n",
       "    </tr>\n",
       "    <tr>\n",
       "      <th>154</th>\n",
       "      <td>550000</td>\n",
       "      <td>717827.746436</td>\n",
       "    </tr>\n",
       "  </tbody>\n",
       "</table>\n",
       "</div>"
      ],
      "text/plain": [
       "     Actual      Predicted\n",
       "139  655500  545308.629411\n",
       "113  150900  145045.881790\n",
       "16   590000  865230.277156\n",
       "75   184900  233610.231620\n",
       "154  550000  717827.746436"
      ]
     },
     "execution_count": 222,
     "metadata": {},
     "output_type": "execute_result"
    }
   ],
   "source": [
    "df2 = pd.DataFrame({'Actual': y_test, 'Predicted': y_pred})\n",
    "df2.head(5)"
   ]
  },
  {
   "cell_type": "code",
   "execution_count": 223,
   "metadata": {},
   "outputs": [
    {
     "data": {
      "image/png": "[encoded data removed]",
      "text/plain": [
       "<Figure size 720x576 with 1 Axes>"
      ]
     },
     "metadata": {
      "needs_background": "light"
     },
     "output_type": "display_data"
    }
   ],
   "source": [
    "df1.plot(kind='bar',figsize=(10,8))\n",
    "plt.grid(which='major', linestyle='-', linewidth='0.5', color='green')\n",
    "plt.grid(which='minor', linestyle=':', linewidth='0.5', color='black')\n",
    "plt.show()"
   ]
  },
  {
   "cell_type": "code",
   "execution_count": 224,
   "metadata": {},
   "outputs": [
    {
     "name": "stdout",
     "output_type": "stream",
     "text": [
      "Mean Absolute Error: 66671.74358373118\n",
      "Mean Squared Error: 8703312256.41301\n",
      "Root Mean Squared Error: 93291.54439933455\n"
     ]
    }
   ],
   "source": [
    "print('Mean Absolute Error:', metrics.mean_absolute_error(y_test, y_pred))  \n",
    "print('Mean Squared Error:', metrics.mean_squared_error(y_test, y_pred))  \n",
    "print('Root Mean Squared Error:', np.sqrt(metrics.mean_squared_error(y_test, y_pred)))"
   ]
  },
  {
   "cell_type": "markdown",
   "metadata": {},
   "source": [
    "## 6. Conclusion"
   ]
  },
  {
   "cell_type": "markdown",
   "metadata": {},
   "source": [
    "Result\n",
    "#### Model1\n",
    "- R Square = 0.897\n",
    "- MSE = 13,160,500,765.816427\n",
    "- RMSE = 114,719.22578982316\n",
    "\n",
    "#### Model2 (add near venues) \n",
    "- R Square = 0.932\n",
    "- MSE = 8,703,312,256.41301\n",
    "- RMSE = 93,291.54439933455"
   ]
  },
  {
   "cell_type": "markdown",
   "metadata": {},
   "source": [
    "From results above,we can conclude that model2 is better than model1."
   ]
  },
  {
   "cell_type": "markdown",
   "metadata": {},
   "source": [
    "## 7.Further Development"
   ]
  },
  {
   "cell_type": "markdown",
   "metadata": {},
   "source": [
    "The following are suggestions how this project could be further developed:\n",
    "\n",
    "- Due to Foursqure limitation in this project,we should use all the dataset(6412rows) from kaggle for building a model.\n",
    "- Due to wealth difference of each districts in sao paulo,we should categorize the wealth level and then create a model based on each wealth level.\n",
    "- Find the other features that may affect the condo price for better accuracy.For example,How old,facility rating from resident,etc.\n",
    "\n"
   ]
  },
  {
   "cell_type": "code",
   "execution_count": null,
   "metadata": {},
   "outputs": [],
   "source": []
  }
 ],
 "metadata": {
  "kernelspec": {
   "display_name": "Python 3.6",
   "language": "python",
   "name": "python3"
  },
  "language_info": {
   "codemirror_mode": {
    "name": "ipython",
    "version": 3
   },
   "file_extension": ".py",
   "mimetype": "text/x-python",
   "name": "python",
   "nbconvert_exporter": "python",
   "pygments_lexer": "ipython3",
   "version": "3.6.8"
  }
 },
 "nbformat": 4,
 "nbformat_minor": 1
}
